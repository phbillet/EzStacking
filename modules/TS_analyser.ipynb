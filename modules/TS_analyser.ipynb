{
 "cells": [
  {
   "cell_type": "markdown",
   "id": "f78d09eb-9da0-42aa-b1af-61e7cd68ea70",
   "metadata": {},
   "source": [
    "# Time Series Analyser"
   ]
  },
  {
   "cell_type": "code",
   "execution_count": 2,
   "id": "19ada49d-1440-42ac-8ac2-3e42e90bca9e",
   "metadata": {
    "tags": []
   },
   "outputs": [],
   "source": [
    "from ezs_func import *"
   ]
  },
  {
   "cell_type": "code",
   "execution_count": 3,
   "id": "c4ee6d03-a977-47be-aa8c-470746c8172a",
   "metadata": {
    "tags": []
   },
   "outputs": [],
   "source": [
    "random_state=42"
   ]
  },
  {
   "cell_type": "markdown",
   "id": "79cd7f0c-ca53-4086-a8b0-aa2e708a1816",
   "metadata": {},
   "source": [
    "## Examples of time series dataset"
   ]
  },
  {
   "cell_type": "code",
   "execution_count": 4,
   "id": "773d93ae-ae9e-43f0-874d-d1329846449d",
   "metadata": {
    "tags": []
   },
   "outputs": [
    {
     "data": {
      "text/html": [
       "<div>\n",
       "<style scoped>\n",
       "    .dataframe tbody tr th:only-of-type {\n",
       "        vertical-align: middle;\n",
       "    }\n",
       "\n",
       "    .dataframe tbody tr th {\n",
       "        vertical-align: top;\n",
       "    }\n",
       "\n",
       "    .dataframe thead th {\n",
       "        text-align: right;\n",
       "    }\n",
       "</style>\n",
       "<table border=\"1\" class=\"dataframe\">\n",
       "  <thead>\n",
       "    <tr style=\"text-align: right;\">\n",
       "      <th></th>\n",
       "      <th>data</th>\n",
       "    </tr>\n",
       "    <tr>\n",
       "      <th>date</th>\n",
       "      <th></th>\n",
       "    </tr>\n",
       "  </thead>\n",
       "  <tbody>\n",
       "    <tr>\n",
       "      <th>2000-01-01 00:00:00</th>\n",
       "      <td>103.058248</td>\n",
       "    </tr>\n",
       "    <tr>\n",
       "      <th>2000-01-01 01:00:00</th>\n",
       "      <td>102.900557</td>\n",
       "    </tr>\n",
       "    <tr>\n",
       "      <th>2000-01-01 02:00:00</th>\n",
       "      <td>104.515172</td>\n",
       "    </tr>\n",
       "    <tr>\n",
       "      <th>2000-01-01 03:00:00</th>\n",
       "      <td>106.572620</td>\n",
       "    </tr>\n",
       "    <tr>\n",
       "      <th>2000-01-01 04:00:00</th>\n",
       "      <td>106.699687</td>\n",
       "    </tr>\n",
       "  </tbody>\n",
       "</table>\n",
       "</div>"
      ],
      "text/plain": [
       "                           data\n",
       "date                           \n",
       "2000-01-01 00:00:00  103.058248\n",
       "2000-01-01 01:00:00  102.900557\n",
       "2000-01-01 02:00:00  104.515172\n",
       "2000-01-01 03:00:00  106.572620\n",
       "2000-01-01 04:00:00  106.699687"
      ]
     },
     "execution_count": 4,
     "metadata": {},
     "output_type": "execute_result"
    }
   ],
   "source": [
    "np.random.seed(0)\n",
    "t = np.arange(1, 1000)\n",
    "trend = 0.0001 * t ** 2 + 100\n",
    "daily_seasonality = 5 * np.sin(2 * np.pi * t / 24)\n",
    "noise = np.random.randn(len(t))\n",
    "y = trend + daily_seasonality  + noise\n",
    "index = pd.date_range(start='2000-01-01', periods=len(t), freq='H')\n",
    "df_1s = pd.DataFrame(data=y, index=index, columns=['data'])\n",
    "df_1s.index.name = 'date'\n",
    "target = 'data'\n",
    "df_1s.head()"
   ]
  },
  {
   "cell_type": "code",
   "execution_count": 6,
   "id": "4aa00e1f-2f1e-4d1c-9ac6-1774ef5b5da0",
   "metadata": {
    "tags": []
   },
   "outputs": [],
   "source": [
    "df_1s.to_csv('./ts_1s.csv', index=True)\n"
   ]
  },
  {
   "cell_type": "code",
   "execution_count": 7,
   "id": "1ca1d071-203f-4577-b777-c3a21920d7e5",
   "metadata": {
    "tags": []
   },
   "outputs": [
    {
     "data": {
      "text/html": [
       "<div>\n",
       "<style scoped>\n",
       "    .dataframe tbody tr th:only-of-type {\n",
       "        vertical-align: middle;\n",
       "    }\n",
       "\n",
       "    .dataframe tbody tr th {\n",
       "        vertical-align: top;\n",
       "    }\n",
       "\n",
       "    .dataframe thead th {\n",
       "        text-align: right;\n",
       "    }\n",
       "</style>\n",
       "<table border=\"1\" class=\"dataframe\">\n",
       "  <thead>\n",
       "    <tr style=\"text-align: right;\">\n",
       "      <th></th>\n",
       "      <th>data</th>\n",
       "    </tr>\n",
       "    <tr>\n",
       "      <th>date</th>\n",
       "      <th></th>\n",
       "    </tr>\n",
       "  </thead>\n",
       "  <tbody>\n",
       "    <tr>\n",
       "      <th>2000-01-01 00:00:00</th>\n",
       "      <td>103.432160</td>\n",
       "    </tr>\n",
       "    <tr>\n",
       "      <th>2000-01-01 01:00:00</th>\n",
       "      <td>103.647858</td>\n",
       "    </tr>\n",
       "    <tr>\n",
       "      <th>2000-01-01 02:00:00</th>\n",
       "      <td>105.634817</td>\n",
       "    </tr>\n",
       "    <tr>\n",
       "      <th>2000-01-01 03:00:00</th>\n",
       "      <td>108.063043</td>\n",
       "    </tr>\n",
       "    <tr>\n",
       "      <th>2000-01-01 04:00:00</th>\n",
       "      <td>108.558803</td>\n",
       "    </tr>\n",
       "  </tbody>\n",
       "</table>\n",
       "</div>"
      ],
      "text/plain": [
       "                           data\n",
       "date                           \n",
       "2000-01-01 00:00:00  103.432160\n",
       "2000-01-01 01:00:00  103.647858\n",
       "2000-01-01 02:00:00  105.634817\n",
       "2000-01-01 03:00:00  108.063043\n",
       "2000-01-01 04:00:00  108.558803"
      ]
     },
     "execution_count": 7,
     "metadata": {},
     "output_type": "execute_result"
    }
   ],
   "source": [
    "np.random.seed(0)\n",
    "t = np.arange(1, 1000)\n",
    "trend = 0.0001 * t ** 2 + 100\n",
    "daily_seasonality = 5 * np.sin(2 * np.pi * t / 24)\n",
    "weekly_seasonality = 10 * np.sin(2 * np.pi * t / (24 * 7))\n",
    "noise = np.random.randn(len(t))\n",
    "y = trend + daily_seasonality + weekly_seasonality + noise\n",
    "index = pd.date_range(start='2000-01-01', periods=len(t), freq='H')\n",
    "df_2s = pd.DataFrame(data=y, index=index, columns=['data'])\n",
    "df_2s.index.name = 'date'\n",
    "target = 'data'\n",
    "df_2s.head()"
   ]
  },
  {
   "cell_type": "code",
   "execution_count": null,
   "id": "998aae7e-d7b7-467b-bbb7-b681bb85ff30",
   "metadata": {},
   "outputs": [],
   "source": [
    "df_2s.to_csv('./ts_1s.csv', index=True)"
   ]
  },
  {
   "cell_type": "code",
   "execution_count": 3,
   "id": "09794fde-0de6-4019-8569-a729dfbaa51a",
   "metadata": {
    "tags": []
   },
   "outputs": [
    {
     "data": {
      "text/html": [
       "<div>\n",
       "<style scoped>\n",
       "    .dataframe tbody tr th:only-of-type {\n",
       "        vertical-align: middle;\n",
       "    }\n",
       "\n",
       "    .dataframe tbody tr th {\n",
       "        vertical-align: top;\n",
       "    }\n",
       "\n",
       "    .dataframe thead th {\n",
       "        text-align: right;\n",
       "    }\n",
       "</style>\n",
       "<table border=\"1\" class=\"dataframe\">\n",
       "  <thead>\n",
       "    <tr style=\"text-align: right;\">\n",
       "      <th></th>\n",
       "      <th>Total_Sunspot_Number</th>\n",
       "    </tr>\n",
       "    <tr>\n",
       "      <th>Date</th>\n",
       "      <th></th>\n",
       "    </tr>\n",
       "  </thead>\n",
       "  <tbody>\n",
       "    <tr>\n",
       "      <th>1749-01-31</th>\n",
       "      <td>96.7</td>\n",
       "    </tr>\n",
       "    <tr>\n",
       "      <th>1749-02-28</th>\n",
       "      <td>104.3</td>\n",
       "    </tr>\n",
       "    <tr>\n",
       "      <th>1749-03-31</th>\n",
       "      <td>116.7</td>\n",
       "    </tr>\n",
       "    <tr>\n",
       "      <th>1749-04-30</th>\n",
       "      <td>92.8</td>\n",
       "    </tr>\n",
       "    <tr>\n",
       "      <th>1749-05-31</th>\n",
       "      <td>141.7</td>\n",
       "    </tr>\n",
       "  </tbody>\n",
       "</table>\n",
       "</div>"
      ],
      "text/plain": [
       "            Total_Sunspot_Number\n",
       "Date                            \n",
       "1749-01-31                  96.7\n",
       "1749-02-28                 104.3\n",
       "1749-03-31                 116.7\n",
       "1749-04-30                  92.8\n",
       "1749-05-31                 141.7"
      ]
     },
     "execution_count": 3,
     "metadata": {},
     "output_type": "execute_result"
    }
   ],
   "source": [
    "df_sun = pd.read_csv(\"dataset/Sunspots.csv\", index_col = 1, parse_dates = True)\n",
    "df_sun.drop(columns = 'Unnamed: 0',inplace = True)\n",
    "target = 'Total_Sunspot_Number'\n",
    "df_sun.head()"
   ]
  },
  {
   "cell_type": "code",
   "execution_count": 4,
   "id": "85c95f26-699b-4ab8-b576-8926b286b4b5",
   "metadata": {
    "tags": []
   },
   "outputs": [
    {
     "data": {
      "text/html": [
       "<div>\n",
       "<style scoped>\n",
       "    .dataframe tbody tr th:only-of-type {\n",
       "        vertical-align: middle;\n",
       "    }\n",
       "\n",
       "    .dataframe tbody tr th {\n",
       "        vertical-align: top;\n",
       "    }\n",
       "\n",
       "    .dataframe thead th {\n",
       "        text-align: right;\n",
       "    }\n",
       "</style>\n",
       "<table border=\"1\" class=\"dataframe\">\n",
       "  <thead>\n",
       "    <tr style=\"text-align: right;\">\n",
       "      <th></th>\n",
       "      <th>Close</th>\n",
       "      <th>Volume</th>\n",
       "      <th>Open</th>\n",
       "      <th>High</th>\n",
       "      <th>Low</th>\n",
       "    </tr>\n",
       "    <tr>\n",
       "      <th>Date</th>\n",
       "      <th></th>\n",
       "      <th></th>\n",
       "      <th></th>\n",
       "      <th></th>\n",
       "      <th></th>\n",
       "    </tr>\n",
       "  </thead>\n",
       "  <tbody>\n",
       "    <tr>\n",
       "      <th>2014-01-22</th>\n",
       "      <td>1238.6</td>\n",
       "      <td>80262.0</td>\n",
       "      <td>1240.5</td>\n",
       "      <td>1243.5</td>\n",
       "      <td>1235.5</td>\n",
       "    </tr>\n",
       "    <tr>\n",
       "      <th>2014-01-23</th>\n",
       "      <td>1262.5</td>\n",
       "      <td>41697.0</td>\n",
       "      <td>1235.1</td>\n",
       "      <td>1267.1</td>\n",
       "      <td>1230.8</td>\n",
       "    </tr>\n",
       "    <tr>\n",
       "      <th>2014-01-24</th>\n",
       "      <td>1264.5</td>\n",
       "      <td>34998.0</td>\n",
       "      <td>1264.3</td>\n",
       "      <td>1273.2</td>\n",
       "      <td>1256.9</td>\n",
       "    </tr>\n",
       "    <tr>\n",
       "      <th>2014-01-25</th>\n",
       "      <td>NaN</td>\n",
       "      <td>NaN</td>\n",
       "      <td>NaN</td>\n",
       "      <td>NaN</td>\n",
       "      <td>NaN</td>\n",
       "    </tr>\n",
       "    <tr>\n",
       "      <th>2014-01-26</th>\n",
       "      <td>NaN</td>\n",
       "      <td>NaN</td>\n",
       "      <td>NaN</td>\n",
       "      <td>NaN</td>\n",
       "      <td>NaN</td>\n",
       "    </tr>\n",
       "  </tbody>\n",
       "</table>\n",
       "</div>"
      ],
      "text/plain": [
       "             Close   Volume    Open    High     Low\n",
       "Date                                               \n",
       "2014-01-22  1238.6  80262.0  1240.5  1243.5  1235.5\n",
       "2014-01-23  1262.5  41697.0  1235.1  1267.1  1230.8\n",
       "2014-01-24  1264.5  34998.0  1264.3  1273.2  1256.9\n",
       "2014-01-25     NaN      NaN     NaN     NaN     NaN\n",
       "2014-01-26     NaN      NaN     NaN     NaN     NaN"
      ]
     },
     "execution_count": 4,
     "metadata": {},
     "output_type": "execute_result"
    }
   ],
   "source": [
    "df_gold = pd.read_csv(\"dataset/goldstock.csv\", index_col = 1, parse_dates = True)\n",
    "df_gold.drop(columns = 'Unnamed: 0',inplace = True)\n",
    "target = 'Open'\n",
    "# Force the frequency of the index\n",
    "df_gold = df_gold.resample('D').first()\n",
    "df_gold = df_gold.asfreq('D')\n",
    "df_gold.head()"
   ]
  },
  {
   "cell_type": "code",
   "execution_count": 5,
   "id": "45792f7c-26cf-447c-b765-53dc28998799",
   "metadata": {
    "tags": []
   },
   "outputs": [],
   "source": [
    "df = df_gold"
   ]
  },
  {
   "cell_type": "markdown",
   "id": "2a622564-22cf-4622-9812-918673741cdf",
   "metadata": {},
   "source": [
    "## EDA\n",
    "### Correlation & Autocorellation"
   ]
  },
  {
   "cell_type": "code",
   "execution_count": 6,
   "id": "f7149c9c-373c-446f-a1d4-c3a6d4b904de",
   "metadata": {
    "tags": []
   },
   "outputs": [
    {
     "name": "stdout",
     "output_type": "stream",
     "text": [
      "Correlation matrix\n"
     ]
    },
    {
     "data": {
      "text/html": [
       "<style type=\"text/css\">\n",
       "#T_b1a36_row0_col0, #T_b1a36_row0_col2, #T_b1a36_row0_col3, #T_b1a36_row0_col4, #T_b1a36_row1_col1, #T_b1a36_row2_col0, #T_b1a36_row2_col2, #T_b1a36_row2_col3, #T_b1a36_row2_col4, #T_b1a36_row3_col0, #T_b1a36_row3_col2, #T_b1a36_row3_col3, #T_b1a36_row3_col4, #T_b1a36_row4_col0, #T_b1a36_row4_col2, #T_b1a36_row4_col3, #T_b1a36_row4_col4 {\n",
       "  background-color: #b40426;\n",
       "  color: #f1f1f1;\n",
       "}\n",
       "#T_b1a36_row0_col1 {\n",
       "  background-color: #3c4ec2;\n",
       "  color: #f1f1f1;\n",
       "}\n",
       "#T_b1a36_row1_col0, #T_b1a36_row1_col2, #T_b1a36_row1_col3, #T_b1a36_row1_col4, #T_b1a36_row4_col1 {\n",
       "  background-color: #3b4cc0;\n",
       "  color: #f1f1f1;\n",
       "}\n",
       "#T_b1a36_row2_col1 {\n",
       "  background-color: #3d50c3;\n",
       "  color: #f1f1f1;\n",
       "}\n",
       "#T_b1a36_row3_col1 {\n",
       "  background-color: #3e51c5;\n",
       "  color: #f1f1f1;\n",
       "}\n",
       "</style>\n",
       "<table id=\"T_b1a36\">\n",
       "  <thead>\n",
       "    <tr>\n",
       "      <th class=\"blank level0\" >&nbsp;</th>\n",
       "      <th id=\"T_b1a36_level0_col0\" class=\"col_heading level0 col0\" >Close</th>\n",
       "      <th id=\"T_b1a36_level0_col1\" class=\"col_heading level0 col1\" >Volume</th>\n",
       "      <th id=\"T_b1a36_level0_col2\" class=\"col_heading level0 col2\" >Open</th>\n",
       "      <th id=\"T_b1a36_level0_col3\" class=\"col_heading level0 col3\" >High</th>\n",
       "      <th id=\"T_b1a36_level0_col4\" class=\"col_heading level0 col4\" >Low</th>\n",
       "    </tr>\n",
       "  </thead>\n",
       "  <tbody>\n",
       "    <tr>\n",
       "      <th id=\"T_b1a36_level0_row0\" class=\"row_heading level0 row0\" >Close</th>\n",
       "      <td id=\"T_b1a36_row0_col0\" class=\"data row0 col0\" >1.000000</td>\n",
       "      <td id=\"T_b1a36_row0_col1\" class=\"data row0 col1\" >0.023903</td>\n",
       "      <td id=\"T_b1a36_row0_col2\" class=\"data row0 col2\" >0.998997</td>\n",
       "      <td id=\"T_b1a36_row0_col3\" class=\"data row0 col3\" >0.999526</td>\n",
       "      <td id=\"T_b1a36_row0_col4\" class=\"data row0 col4\" >0.999575</td>\n",
       "    </tr>\n",
       "    <tr>\n",
       "      <th id=\"T_b1a36_level0_row1\" class=\"row_heading level0 row1\" >Volume</th>\n",
       "      <td id=\"T_b1a36_row1_col0\" class=\"data row1 col0\" >0.023903</td>\n",
       "      <td id=\"T_b1a36_row1_col1\" class=\"data row1 col1\" >1.000000</td>\n",
       "      <td id=\"T_b1a36_row1_col2\" class=\"data row1 col2\" >0.028158</td>\n",
       "      <td id=\"T_b1a36_row1_col3\" class=\"data row1 col3\" >0.031968</td>\n",
       "      <td id=\"T_b1a36_row1_col4\" class=\"data row1 col4\" >0.019379</td>\n",
       "    </tr>\n",
       "    <tr>\n",
       "      <th id=\"T_b1a36_level0_row2\" class=\"row_heading level0 row2\" >Open</th>\n",
       "      <td id=\"T_b1a36_row2_col0\" class=\"data row2 col0\" >0.998997</td>\n",
       "      <td id=\"T_b1a36_row2_col1\" class=\"data row2 col1\" >0.028158</td>\n",
       "      <td id=\"T_b1a36_row2_col2\" class=\"data row2 col2\" >1.000000</td>\n",
       "      <td id=\"T_b1a36_row2_col3\" class=\"data row2 col3\" >0.999458</td>\n",
       "      <td id=\"T_b1a36_row2_col4\" class=\"data row2 col4\" >0.999385</td>\n",
       "    </tr>\n",
       "    <tr>\n",
       "      <th id=\"T_b1a36_level0_row3\" class=\"row_heading level0 row3\" >High</th>\n",
       "      <td id=\"T_b1a36_row3_col0\" class=\"data row3 col0\" >0.999526</td>\n",
       "      <td id=\"T_b1a36_row3_col1\" class=\"data row3 col1\" >0.031968</td>\n",
       "      <td id=\"T_b1a36_row3_col2\" class=\"data row3 col2\" >0.999458</td>\n",
       "      <td id=\"T_b1a36_row3_col3\" class=\"data row3 col3\" >1.000000</td>\n",
       "      <td id=\"T_b1a36_row3_col4\" class=\"data row3 col4\" >0.999249</td>\n",
       "    </tr>\n",
       "    <tr>\n",
       "      <th id=\"T_b1a36_level0_row4\" class=\"row_heading level0 row4\" >Low</th>\n",
       "      <td id=\"T_b1a36_row4_col0\" class=\"data row4 col0\" >0.999575</td>\n",
       "      <td id=\"T_b1a36_row4_col1\" class=\"data row4 col1\" >0.019379</td>\n",
       "      <td id=\"T_b1a36_row4_col2\" class=\"data row4 col2\" >0.999385</td>\n",
       "      <td id=\"T_b1a36_row4_col3\" class=\"data row4 col3\" >0.999249</td>\n",
       "      <td id=\"T_b1a36_row4_col4\" class=\"data row4 col4\" >1.000000</td>\n",
       "    </tr>\n",
       "  </tbody>\n",
       "</table>\n"
      ],
      "text/plain": [
       "<pandas.io.formats.style.Styler at 0x7f08a8f52ec0>"
      ]
     },
     "metadata": {},
     "output_type": "display_data"
    },
    {
     "name": "stdout",
     "output_type": "stream",
     "text": [
      "Hierarchical clustering\n"
     ]
    },
    {
     "ename": "ValueError",
     "evalue": "Distance matrix 'X' must be symmetric.",
     "output_type": "error",
     "traceback": [
      "\u001b[0;31m---------------------------------------------------------------------------\u001b[0m",
      "\u001b[0;31mValueError\u001b[0m                                Traceback (most recent call last)",
      "Cell \u001b[0;32mIn[6], line 1\u001b[0m\n\u001b[0;32m----> 1\u001b[0m \u001b[43mplot_correlation\u001b[49m\u001b[43m(\u001b[49m\u001b[43mdf\u001b[49m\u001b[43m)\u001b[49m\n",
      "File \u001b[0;32m~/Documents/EZStacking/EZS_deps/EZS_func.py:1227\u001b[0m, in \u001b[0;36mplot_correlation\u001b[0;34m(df)\u001b[0m\n\u001b[1;32m   1225\u001b[0m    display(corr\u001b[38;5;241m.\u001b[39mstyle\u001b[38;5;241m.\u001b[39mbackground_gradient(cmap\u001b[38;5;241m=\u001b[39m\u001b[38;5;124m'\u001b[39m\u001b[38;5;124mcoolwarm\u001b[39m\u001b[38;5;124m'\u001b[39m))\n\u001b[1;32m   1226\u001b[0m    \u001b[38;5;28mprint\u001b[39m(\u001b[38;5;124m'\u001b[39m\u001b[38;5;124mHierarchical clustering\u001b[39m\u001b[38;5;124m'\u001b[39m)\n\u001b[0;32m-> 1227\u001b[0m    \u001b[43mhierarchical_clustering\u001b[49m\u001b[43m(\u001b[49m\u001b[43mdf\u001b[49m\u001b[43m)\u001b[49m\n\u001b[1;32m   1228\u001b[0m \u001b[38;5;28;01melse\u001b[39;00m:\n\u001b[1;32m   1229\u001b[0m    \u001b[38;5;28mprint\u001b[39m(\u001b[38;5;124m'\u001b[39m\u001b[38;5;124mNo correlation for univariate time series\u001b[39m\u001b[38;5;124m'\u001b[39m)\n",
      "File \u001b[0;32m~/Documents/EZStacking/EZS_deps/EZS_func.py:220\u001b[0m, in \u001b[0;36mhierarchical_clustering\u001b[0;34m(df)\u001b[0m\n\u001b[1;32m    217\u001b[0m \u001b[38;5;66;03m# We convert the correlation matrix to a distance matrix before performing\u001b[39;00m\n\u001b[1;32m    218\u001b[0m \u001b[38;5;66;03m# hierarchical clustering using Ward's linkage.\u001b[39;00m\n\u001b[1;32m    219\u001b[0m distance_matrix \u001b[38;5;241m=\u001b[39m \u001b[38;5;241m1\u001b[39m \u001b[38;5;241m-\u001b[39m np\u001b[38;5;241m.\u001b[39mabs(corr)\n\u001b[0;32m--> 220\u001b[0m dist_linkage \u001b[38;5;241m=\u001b[39m hierarchy\u001b[38;5;241m.\u001b[39mward(\u001b[43msquareform\u001b[49m\u001b[43m(\u001b[49m\u001b[43mdistance_matrix\u001b[49m\u001b[43m)\u001b[49m)\n\u001b[1;32m    221\u001b[0m dendro \u001b[38;5;241m=\u001b[39m hierarchy\u001b[38;5;241m.\u001b[39mdendrogram(\n\u001b[1;32m    222\u001b[0m     dist_linkage, labels\u001b[38;5;241m=\u001b[39mdf\u001b[38;5;241m.\u001b[39mcolumns\u001b[38;5;241m.\u001b[39mtolist(), ax\u001b[38;5;241m=\u001b[39max1, leaf_rotation\u001b[38;5;241m=\u001b[39m\u001b[38;5;241m90\u001b[39m\n\u001b[1;32m    223\u001b[0m )\n\u001b[1;32m    224\u001b[0m dendro_idx \u001b[38;5;241m=\u001b[39m np\u001b[38;5;241m.\u001b[39marange(\u001b[38;5;241m0\u001b[39m, \u001b[38;5;28mlen\u001b[39m(dendro[\u001b[38;5;124m\"\u001b[39m\u001b[38;5;124mivl\u001b[39m\u001b[38;5;124m\"\u001b[39m]))\n",
      "File \u001b[0;32m~/anaconda3/envs/EZStacking/lib/python3.10/site-packages/scipy/spatial/distance.py:2366\u001b[0m, in \u001b[0;36msquareform\u001b[0;34m(X, force, checks)\u001b[0m\n\u001b[1;32m   2364\u001b[0m     \u001b[38;5;28;01mraise\u001b[39;00m \u001b[38;5;167;01mValueError\u001b[39;00m(\u001b[38;5;124m'\u001b[39m\u001b[38;5;124mThe matrix argument must be square.\u001b[39m\u001b[38;5;124m'\u001b[39m)\n\u001b[1;32m   2365\u001b[0m \u001b[38;5;28;01mif\u001b[39;00m checks:\n\u001b[0;32m-> 2366\u001b[0m     \u001b[43mis_valid_dm\u001b[49m\u001b[43m(\u001b[49m\u001b[43mX\u001b[49m\u001b[43m,\u001b[49m\u001b[43m \u001b[49m\u001b[43mthrow\u001b[49m\u001b[38;5;241;43m=\u001b[39;49m\u001b[38;5;28;43;01mTrue\u001b[39;49;00m\u001b[43m,\u001b[49m\u001b[43m \u001b[49m\u001b[43mname\u001b[49m\u001b[38;5;241;43m=\u001b[39;49m\u001b[38;5;124;43m'\u001b[39;49m\u001b[38;5;124;43mX\u001b[39;49m\u001b[38;5;124;43m'\u001b[39;49m\u001b[43m)\u001b[49m\n\u001b[1;32m   2368\u001b[0m \u001b[38;5;66;03m# One-side of the dimensions is set here.\u001b[39;00m\n\u001b[1;32m   2369\u001b[0m d \u001b[38;5;241m=\u001b[39m s[\u001b[38;5;241m0\u001b[39m]\n",
      "File \u001b[0;32m~/anaconda3/envs/EZStacking/lib/python3.10/site-packages/scipy/spatial/distance.py:2472\u001b[0m, in \u001b[0;36mis_valid_dm\u001b[0;34m(D, tol, throw, name, warning)\u001b[0m\n\u001b[1;32m   2470\u001b[0m \u001b[38;5;28;01mif\u001b[39;00m \u001b[38;5;129;01mnot\u001b[39;00m (D \u001b[38;5;241m==\u001b[39m D\u001b[38;5;241m.\u001b[39mT)\u001b[38;5;241m.\u001b[39mall():\n\u001b[1;32m   2471\u001b[0m     \u001b[38;5;28;01mif\u001b[39;00m name:\n\u001b[0;32m-> 2472\u001b[0m         \u001b[38;5;28;01mraise\u001b[39;00m \u001b[38;5;167;01mValueError\u001b[39;00m((\u001b[38;5;124m'\u001b[39m\u001b[38;5;124mDistance matrix \u001b[39m\u001b[38;5;130;01m\\'\u001b[39;00m\u001b[38;5;132;01m%s\u001b[39;00m\u001b[38;5;130;01m\\'\u001b[39;00m\u001b[38;5;124m must be \u001b[39m\u001b[38;5;124m'\u001b[39m\n\u001b[1;32m   2473\u001b[0m                          \u001b[38;5;124m'\u001b[39m\u001b[38;5;124msymmetric.\u001b[39m\u001b[38;5;124m'\u001b[39m) \u001b[38;5;241m%\u001b[39m name)\n\u001b[1;32m   2474\u001b[0m     \u001b[38;5;28;01melse\u001b[39;00m:\n\u001b[1;32m   2475\u001b[0m         \u001b[38;5;28;01mraise\u001b[39;00m \u001b[38;5;167;01mValueError\u001b[39;00m(\u001b[38;5;124m'\u001b[39m\u001b[38;5;124mDistance matrix must be symmetric.\u001b[39m\u001b[38;5;124m'\u001b[39m)\n",
      "\u001b[0;31mValueError\u001b[0m: Distance matrix 'X' must be symmetric."
     ]
    },
    {
     "data": {
      "image/png": "[encoded data removed]",
      "text/plain": [
       "<Figure size 1000x500 with 2 Axes>"
      ]
     },
     "metadata": {},
     "output_type": "display_data"
    }
   ],
   "source": [
    "plot_correlation(df)"
   ]
  },
  {
   "cell_type": "code",
   "execution_count": 7,
   "id": "dc8c4775-7ef6-46e2-8ddf-2d42d7fb16b1",
   "metadata": {},
   "outputs": [
    {
     "data": {
      "application/vnd.jupyter.widget-view+json": {
       "model_id": "dc1844797ea9436f8a33166a28a95eea",
       "version_major": 2,
       "version_minor": 0
      },
      "text/plain": [
       "interactive(children=(Dropdown(description='column', options=('Close', 'Volume', 'Open', 'High', 'Low'), value…"
      ]
     },
     "metadata": {},
     "output_type": "display_data"
    }
   ],
   "source": [
    "plot_acf_pacf(df, column=df.columns.to_list())"
   ]
  },
  {
   "cell_type": "markdown",
   "id": "38b6c90d-cfba-4904-a045-399c54ca24c8",
   "metadata": {},
   "source": [
    "### Seasonal decomposition\n",
    "#### Seasonal decomposition with one period"
   ]
  },
  {
   "cell_type": "code",
   "execution_count": 8,
   "id": "6e0e875a-991d-441d-8855-d1811b63e0b9",
   "metadata": {
    "tags": []
   },
   "outputs": [
    {
     "data": {
      "application/vnd.jupyter.widget-view+json": {
       "model_id": "3e00615e835d421f9b69c7205a1a2b1f",
       "version_major": 2,
       "version_minor": 0
      },
      "text/plain": [
       "interactive(children=(Dropdown(description='column', options=('Close', 'Volume', 'Open', 'High', 'Low'), value…"
      ]
     },
     "metadata": {},
     "output_type": "display_data"
    }
   ],
   "source": [
    "plot_seasonal_decompose(df, column=df.columns.to_list(), model=['additive', 'multiplicative'], period=(1,int(df.shape[0]/4),1))"
   ]
  },
  {
   "cell_type": "markdown",
   "id": "f2cb0915-d9d2-4288-be5c-21c54af935c4",
   "metadata": {},
   "source": [
    "#### Seasonal decomposition with one period"
   ]
  },
  {
   "cell_type": "code",
   "execution_count": 8,
   "id": "d1cb9f7d-1ab6-44cb-aea8-bdaa9605bda9",
   "metadata": {
    "tags": []
   },
   "outputs": [
    {
     "data": {
      "application/vnd.jupyter.widget-view+json": {
       "model_id": "c425ca9b92ad44619b1cfa3982016ae4",
       "version_major": 2,
       "version_minor": 0
      },
      "text/plain": [
       "interactive(children=(Dropdown(description='column', options=('Total_Sunspot_Number',), value='Total_Sunspot_N…"
      ]
     },
     "metadata": {},
     "output_type": "display_data"
    }
   ],
   "source": [
    "plot_seasonal_decompose_2(df, column=df.columns.to_list(), period1=(1,int(df.shape[0]/4),1), period2=(1,20,1))"
   ]
  },
  {
   "cell_type": "markdown",
   "id": "2b1bc389-3da5-4399-a3a8-3b4222f58463",
   "metadata": {
    "tags": []
   },
   "source": [
    "### Unobserved components decomposition"
   ]
  },
  {
   "cell_type": "code",
   "execution_count": 9,
   "id": "c5111c49-1b15-4645-b620-5f98690fbd24",
   "metadata": {
    "tags": []
   },
   "outputs": [
    {
     "data": {
      "application/vnd.jupyter.widget-view+json": {
       "model_id": "b3cdff01bc3e4b019bade9dda0766e5b",
       "version_major": 2,
       "version_minor": 0
      },
      "text/plain": [
       "interactive(children=(Dropdown(description='column', options=('Total_Sunspot_Number',), value='Total_Sunspot_N…"
      ]
     },
     "metadata": {},
     "output_type": "display_data"
    }
   ],
   "source": [
    "plot_unobserved_components(df, column=df.columns.to_list(), model=model_uc, method=method, confidence=(0.8,1,0.01))"
   ]
  },
  {
   "cell_type": "markdown",
   "id": "52c965ce-e3e7-448c-8c4d-02a3b2aae9ff",
   "metadata": {},
   "source": [
    "# Modelling\n",
    "## Convert time series to supervised learning problem "
   ]
  },
  {
   "cell_type": "code",
   "execution_count": 9,
   "id": "a6cb7914-b6d5-45c7-bab6-020062e9ace0",
   "metadata": {
    "tags": []
   },
   "outputs": [],
   "source": [
    "df_copy = df.copy()"
   ]
  },
  {
   "cell_type": "markdown",
   "id": "63e787de-c971-49a4-b861-55503ffef95b",
   "metadata": {},
   "source": [
    "The variable `n_in` fixes the window size (the number of past observations used to make prediction)."
   ]
  },
  {
   "cell_type": "code",
   "execution_count": 10,
   "id": "22061eb6-0320-4dcb-b2bb-a6edda2485c8",
   "metadata": {
    "tags": []
   },
   "outputs": [],
   "source": [
    "df_s, target, preds = ts_dataframe_to_supervised(df_copy, target=target, n_in=3, n_out=1, dropT=True)"
   ]
  },
  {
   "cell_type": "code",
   "execution_count": 11,
   "id": "f86a0c7d-be3f-499d-9df7-66a2f6f9ef86",
   "metadata": {
    "tags": []
   },
   "outputs": [
    {
     "data": {
      "text/plain": [
       "'Open(t)'"
      ]
     },
     "execution_count": 11,
     "metadata": {},
     "output_type": "execute_result"
    }
   ],
   "source": [
    "target"
   ]
  },
  {
   "cell_type": "markdown",
   "id": "b450cb86-7126-40a7-9eb3-80318f34b0b6",
   "metadata": {},
   "source": [
    "## Quick EDA "
   ]
  },
  {
   "cell_type": "code",
   "execution_count": 12,
   "id": "02519b7e-b84f-4353-97a0-a21c26bad110",
   "metadata": {
    "tags": []
   },
   "outputs": [
    {
     "name": "stdout",
     "output_type": "stream",
     "text": [
      "Correlation matrix\n"
     ]
    },
    {
     "data": {
      "text/html": [
       "<style type=\"text/css\">\n",
       "#T_08182_row0_col0, #T_08182_row0_col1, #T_08182_row0_col3, #T_08182_row0_col4, #T_08182_row0_col5, #T_08182_row0_col6, #T_08182_row0_col8, #T_08182_row0_col9, #T_08182_row0_col10, #T_08182_row0_col11, #T_08182_row0_col13, #T_08182_row0_col14, #T_08182_row0_col15, #T_08182_row1_col0, #T_08182_row1_col1, #T_08182_row1_col3, #T_08182_row1_col4, #T_08182_row1_col5, #T_08182_row1_col6, #T_08182_row1_col8, #T_08182_row1_col9, #T_08182_row1_col10, #T_08182_row1_col11, #T_08182_row1_col13, #T_08182_row1_col14, #T_08182_row1_col15, #T_08182_row2_col2, #T_08182_row3_col0, #T_08182_row3_col1, #T_08182_row3_col3, #T_08182_row3_col4, #T_08182_row3_col5, #T_08182_row3_col6, #T_08182_row3_col8, #T_08182_row3_col9, #T_08182_row3_col10, #T_08182_row3_col11, #T_08182_row3_col13, #T_08182_row3_col14, #T_08182_row3_col15, #T_08182_row4_col0, #T_08182_row4_col1, #T_08182_row4_col3, #T_08182_row4_col4, #T_08182_row4_col5, #T_08182_row4_col6, #T_08182_row4_col8, #T_08182_row4_col9, #T_08182_row4_col10, #T_08182_row4_col11, #T_08182_row4_col13, #T_08182_row4_col14, #T_08182_row4_col15, #T_08182_row5_col0, #T_08182_row5_col1, #T_08182_row5_col3, #T_08182_row5_col4, #T_08182_row5_col5, #T_08182_row5_col6, #T_08182_row5_col8, #T_08182_row5_col9, #T_08182_row5_col10, #T_08182_row5_col11, #T_08182_row5_col13, #T_08182_row5_col14, #T_08182_row5_col15, #T_08182_row6_col0, #T_08182_row6_col1, #T_08182_row6_col3, #T_08182_row6_col4, #T_08182_row6_col5, #T_08182_row6_col6, #T_08182_row6_col8, #T_08182_row6_col9, #T_08182_row6_col10, #T_08182_row6_col11, #T_08182_row6_col13, #T_08182_row6_col14, #T_08182_row6_col15, #T_08182_row7_col7, #T_08182_row8_col0, #T_08182_row8_col1, #T_08182_row8_col3, #T_08182_row8_col4, #T_08182_row8_col5, #T_08182_row8_col6, #T_08182_row8_col8, #T_08182_row8_col9, #T_08182_row8_col10, #T_08182_row8_col11, #T_08182_row8_col13, #T_08182_row8_col14, #T_08182_row8_col15, #T_08182_row9_col0, #T_08182_row9_col1, #T_08182_row9_col3, #T_08182_row9_col4, #T_08182_row9_col5, #T_08182_row9_col6, #T_08182_row9_col8, #T_08182_row9_col9, #T_08182_row9_col10, #T_08182_row9_col11, #T_08182_row9_col13, #T_08182_row9_col14, #T_08182_row9_col15, #T_08182_row10_col0, #T_08182_row10_col1, #T_08182_row10_col3, #T_08182_row10_col4, #T_08182_row10_col5, #T_08182_row10_col6, #T_08182_row10_col8, #T_08182_row10_col9, #T_08182_row10_col10, #T_08182_row10_col11, #T_08182_row10_col13, #T_08182_row10_col14, #T_08182_row10_col15, #T_08182_row11_col0, #T_08182_row11_col1, #T_08182_row11_col3, #T_08182_row11_col4, #T_08182_row11_col5, #T_08182_row11_col6, #T_08182_row11_col8, #T_08182_row11_col9, #T_08182_row11_col10, #T_08182_row11_col11, #T_08182_row11_col13, #T_08182_row11_col14, #T_08182_row11_col15, #T_08182_row12_col12, #T_08182_row13_col0, #T_08182_row13_col1, #T_08182_row13_col3, #T_08182_row13_col4, #T_08182_row13_col5, #T_08182_row13_col6, #T_08182_row13_col8, #T_08182_row13_col9, #T_08182_row13_col10, #T_08182_row13_col11, #T_08182_row13_col13, #T_08182_row13_col14, #T_08182_row13_col15, #T_08182_row14_col0, #T_08182_row14_col1, #T_08182_row14_col3, #T_08182_row14_col4, #T_08182_row14_col5, #T_08182_row14_col6, #T_08182_row14_col8, #T_08182_row14_col9, #T_08182_row14_col10, #T_08182_row14_col11, #T_08182_row14_col13, #T_08182_row14_col14, #T_08182_row14_col15, #T_08182_row15_col0, #T_08182_row15_col1, #T_08182_row15_col3, #T_08182_row15_col4, #T_08182_row15_col5, #T_08182_row15_col6, #T_08182_row15_col8, #T_08182_row15_col9, #T_08182_row15_col10, #T_08182_row15_col11, #T_08182_row15_col13, #T_08182_row15_col14, #T_08182_row15_col15 {\n",
       "  background-color: #b40426;\n",
       "  color: #f1f1f1;\n",
       "}\n",
       "#T_08182_row0_col2, #T_08182_row0_col7, #T_08182_row0_col12, #T_08182_row5_col2, #T_08182_row6_col2, #T_08182_row6_col7, #T_08182_row8_col2, #T_08182_row9_col2, #T_08182_row10_col2, #T_08182_row10_col7, #T_08182_row11_col2, #T_08182_row11_col7, #T_08182_row12_col0, #T_08182_row12_col1, #T_08182_row12_col3, #T_08182_row12_col4, #T_08182_row12_col5, #T_08182_row12_col6, #T_08182_row12_col8, #T_08182_row12_col9, #T_08182_row12_col10, #T_08182_row12_col11, #T_08182_row12_col13, #T_08182_row12_col14, #T_08182_row12_col15, #T_08182_row13_col2, #T_08182_row13_col7, #T_08182_row14_col2, #T_08182_row14_col7, #T_08182_row15_col2, #T_08182_row15_col7, #T_08182_row15_col12 {\n",
       "  background-color: #3b4cc0;\n",
       "  color: #f1f1f1;\n",
       "}\n",
       "#T_08182_row1_col2, #T_08182_row3_col7, #T_08182_row3_col12, #T_08182_row4_col7, #T_08182_row5_col7, #T_08182_row5_col12, #T_08182_row6_col12, #T_08182_row7_col14, #T_08182_row8_col12, #T_08182_row10_col12, #T_08182_row11_col12, #T_08182_row13_col12 {\n",
       "  background-color: #3c4ec2;\n",
       "  color: #f1f1f1;\n",
       "}\n",
       "#T_08182_row1_col7, #T_08182_row1_col12, #T_08182_row3_col2, #T_08182_row4_col12, #T_08182_row7_col13, #T_08182_row8_col7, #T_08182_row9_col12 {\n",
       "  background-color: #3d50c3;\n",
       "  color: #f1f1f1;\n",
       "}\n",
       "#T_08182_row2_col0, #T_08182_row2_col15 {\n",
       "  background-color: #4961d2;\n",
       "  color: #f1f1f1;\n",
       "}\n",
       "#T_08182_row2_col1, #T_08182_row2_col6, #T_08182_row2_col8, #T_08182_row2_col9, #T_08182_row2_col10, #T_08182_row2_col11, #T_08182_row2_col13 {\n",
       "  background-color: #485fd1;\n",
       "  color: #f1f1f1;\n",
       "}\n",
       "#T_08182_row2_col3, #T_08182_row2_col4 {\n",
       "  background-color: #4a63d3;\n",
       "  color: #f1f1f1;\n",
       "}\n",
       "#T_08182_row2_col5 {\n",
       "  background-color: #465ecf;\n",
       "  color: #f1f1f1;\n",
       "}\n",
       "#T_08182_row2_col7 {\n",
       "  background-color: #c3d5f4;\n",
       "  color: #000000;\n",
       "}\n",
       "#T_08182_row2_col12 {\n",
       "  background-color: #cedaeb;\n",
       "  color: #000000;\n",
       "}\n",
       "#T_08182_row2_col14 {\n",
       "  background-color: #455cce;\n",
       "  color: #f1f1f1;\n",
       "}\n",
       "#T_08182_row4_col2, #T_08182_row7_col0, #T_08182_row7_col4, #T_08182_row7_col6, #T_08182_row7_col10, #T_08182_row7_col11, #T_08182_row9_col7, #T_08182_row14_col12 {\n",
       "  background-color: #3e51c5;\n",
       "  color: #f1f1f1;\n",
       "}\n",
       "#T_08182_row7_col1, #T_08182_row7_col3, #T_08182_row7_col5, #T_08182_row7_col8, #T_08182_row7_col15 {\n",
       "  background-color: #3f53c6;\n",
       "  color: #f1f1f1;\n",
       "}\n",
       "#T_08182_row7_col2 {\n",
       "  background-color: #bcd2f7;\n",
       "  color: #000000;\n",
       "}\n",
       "#T_08182_row7_col9 {\n",
       "  background-color: #4055c8;\n",
       "  color: #f1f1f1;\n",
       "}\n",
       "#T_08182_row7_col12 {\n",
       "  background-color: #d8dce2;\n",
       "  color: #000000;\n",
       "}\n",
       "#T_08182_row12_col2 {\n",
       "  background-color: #c5d6f2;\n",
       "  color: #000000;\n",
       "}\n",
       "#T_08182_row12_col7 {\n",
       "  background-color: #d5dbe5;\n",
       "  color: #000000;\n",
       "}\n",
       "</style>\n",
       "<table id=\"T_08182\">\n",
       "  <thead>\n",
       "    <tr>\n",
       "      <th class=\"blank level0\" >&nbsp;</th>\n",
       "      <th id=\"T_08182_level0_col0\" class=\"col_heading level0 col0\" >Open(t)</th>\n",
       "      <th id=\"T_08182_level0_col1\" class=\"col_heading level0 col1\" >Close(t-3)</th>\n",
       "      <th id=\"T_08182_level0_col2\" class=\"col_heading level0 col2\" >Volume(t-3)</th>\n",
       "      <th id=\"T_08182_level0_col3\" class=\"col_heading level0 col3\" >Open(t-3)</th>\n",
       "      <th id=\"T_08182_level0_col4\" class=\"col_heading level0 col4\" >High(t-3)</th>\n",
       "      <th id=\"T_08182_level0_col5\" class=\"col_heading level0 col5\" >Low(t-3)</th>\n",
       "      <th id=\"T_08182_level0_col6\" class=\"col_heading level0 col6\" >Close(t-2)</th>\n",
       "      <th id=\"T_08182_level0_col7\" class=\"col_heading level0 col7\" >Volume(t-2)</th>\n",
       "      <th id=\"T_08182_level0_col8\" class=\"col_heading level0 col8\" >Open(t-2)</th>\n",
       "      <th id=\"T_08182_level0_col9\" class=\"col_heading level0 col9\" >High(t-2)</th>\n",
       "      <th id=\"T_08182_level0_col10\" class=\"col_heading level0 col10\" >Low(t-2)</th>\n",
       "      <th id=\"T_08182_level0_col11\" class=\"col_heading level0 col11\" >Close(t-1)</th>\n",
       "      <th id=\"T_08182_level0_col12\" class=\"col_heading level0 col12\" >Volume(t-1)</th>\n",
       "      <th id=\"T_08182_level0_col13\" class=\"col_heading level0 col13\" >Open(t-1)</th>\n",
       "      <th id=\"T_08182_level0_col14\" class=\"col_heading level0 col14\" >High(t-1)</th>\n",
       "      <th id=\"T_08182_level0_col15\" class=\"col_heading level0 col15\" >Low(t-1)</th>\n",
       "    </tr>\n",
       "  </thead>\n",
       "  <tbody>\n",
       "    <tr>\n",
       "      <th id=\"T_08182_level0_row0\" class=\"row_heading level0 row0\" >Open(t)</th>\n",
       "      <td id=\"T_08182_row0_col0\" class=\"data row0 col0\" >1.000000</td>\n",
       "      <td id=\"T_08182_row0_col1\" class=\"data row0 col1\" >0.997871</td>\n",
       "      <td id=\"T_08182_row0_col2\" class=\"data row0 col2\" >0.060996</td>\n",
       "      <td id=\"T_08182_row0_col3\" class=\"data row0 col3\" >0.996923</td>\n",
       "      <td id=\"T_08182_row0_col4\" class=\"data row0 col4\" >0.997507</td>\n",
       "      <td id=\"T_08182_row0_col5\" class=\"data row0 col5\" >0.997446</td>\n",
       "      <td id=\"T_08182_row0_col6\" class=\"data row0 col6\" >0.998712</td>\n",
       "      <td id=\"T_08182_row0_col7\" class=\"data row0 col7\" >0.029510</td>\n",
       "      <td id=\"T_08182_row0_col8\" class=\"data row0 col8\" >0.997985</td>\n",
       "      <td id=\"T_08182_row0_col9\" class=\"data row0 col9\" >0.998420</td>\n",
       "      <td id=\"T_08182_row0_col10\" class=\"data row0 col10\" >0.998492</td>\n",
       "      <td id=\"T_08182_row0_col11\" class=\"data row0 col11\" >0.999763</td>\n",
       "      <td id=\"T_08182_row0_col12\" class=\"data row0 col12\" >0.014744</td>\n",
       "      <td id=\"T_08182_row0_col13\" class=\"data row0 col13\" >0.998909</td>\n",
       "      <td id=\"T_08182_row0_col14\" class=\"data row0 col14\" >0.999418</td>\n",
       "      <td id=\"T_08182_row0_col15\" class=\"data row0 col15\" >0.999515</td>\n",
       "    </tr>\n",
       "    <tr>\n",
       "      <th id=\"T_08182_level0_row1\" class=\"row_heading level0 row1\" >Close(t-3)</th>\n",
       "      <td id=\"T_08182_row1_col0\" class=\"data row1 col0\" >0.997871</td>\n",
       "      <td id=\"T_08182_row1_col1\" class=\"data row1 col1\" >1.000000</td>\n",
       "      <td id=\"T_08182_row1_col2\" class=\"data row1 col2\" >0.063884</td>\n",
       "      <td id=\"T_08182_row1_col3\" class=\"data row1 col3\" >0.999000</td>\n",
       "      <td id=\"T_08182_row1_col4\" class=\"data row1 col4\" >0.999555</td>\n",
       "      <td id=\"T_08182_row1_col5\" class=\"data row1 col5\" >0.999572</td>\n",
       "      <td id=\"T_08182_row1_col6\" class=\"data row1 col6\" >0.999001</td>\n",
       "      <td id=\"T_08182_row1_col7\" class=\"data row1 col7\" >0.035062</td>\n",
       "      <td id=\"T_08182_row1_col8\" class=\"data row1 col8\" >0.999854</td>\n",
       "      <td id=\"T_08182_row1_col9\" class=\"data row1 col9\" >0.999359</td>\n",
       "      <td id=\"T_08182_row1_col10\" class=\"data row1 col10\" >0.999295</td>\n",
       "      <td id=\"T_08182_row1_col11\" class=\"data row1 col11\" >0.998044</td>\n",
       "      <td id=\"T_08182_row1_col12\" class=\"data row1 col12\" >0.019629</td>\n",
       "      <td id=\"T_08182_row1_col13\" class=\"data row1 col13\" >0.998781</td>\n",
       "      <td id=\"T_08182_row1_col14\" class=\"data row1 col14\" >0.998332</td>\n",
       "      <td id=\"T_08182_row1_col15\" class=\"data row1 col15\" >0.998312</td>\n",
       "    </tr>\n",
       "    <tr>\n",
       "      <th id=\"T_08182_level0_row2\" class=\"row_heading level0 row2\" >Volume(t-3)</th>\n",
       "      <td id=\"T_08182_row2_col0\" class=\"data row2 col0\" >0.060996</td>\n",
       "      <td id=\"T_08182_row2_col1\" class=\"data row2 col1\" >0.063884</td>\n",
       "      <td id=\"T_08182_row2_col2\" class=\"data row2 col2\" >1.000000</td>\n",
       "      <td id=\"T_08182_row2_col3\" class=\"data row2 col3\" >0.070243</td>\n",
       "      <td id=\"T_08182_row2_col4\" class=\"data row2 col4\" >0.070891</td>\n",
       "      <td id=\"T_08182_row2_col5\" class=\"data row2 col5\" >0.059824</td>\n",
       "      <td id=\"T_08182_row2_col6\" class=\"data row2 col6\" >0.062810</td>\n",
       "      <td id=\"T_08182_row2_col7\" class=\"data row2 col7\" >0.425056</td>\n",
       "      <td id=\"T_08182_row2_col8\" class=\"data row2 col8\" >0.061190</td>\n",
       "      <td id=\"T_08182_row2_col9\" class=\"data row2 col9\" >0.061725</td>\n",
       "      <td id=\"T_08182_row2_col10\" class=\"data row2 col10\" >0.059763</td>\n",
       "      <td id=\"T_08182_row2_col11\" class=\"data row2 col11\" >0.060695</td>\n",
       "      <td id=\"T_08182_row2_col12\" class=\"data row2 col12\" >0.452693</td>\n",
       "      <td id=\"T_08182_row2_col13\" class=\"data row2 col13\" >0.062048</td>\n",
       "      <td id=\"T_08182_row2_col14\" class=\"data row2 col14\" >0.062166</td>\n",
       "      <td id=\"T_08182_row2_col15\" class=\"data row2 col15\" >0.060303</td>\n",
       "    </tr>\n",
       "    <tr>\n",
       "      <th id=\"T_08182_level0_row3\" class=\"row_heading level0 row3\" >Open(t-3)</th>\n",
       "      <td id=\"T_08182_row3_col0\" class=\"data row3 col0\" >0.996923</td>\n",
       "      <td id=\"T_08182_row3_col1\" class=\"data row3 col1\" >0.999000</td>\n",
       "      <td id=\"T_08182_row3_col2\" class=\"data row3 col2\" >0.070243</td>\n",
       "      <td id=\"T_08182_row3_col3\" class=\"data row3 col3\" >1.000000</td>\n",
       "      <td id=\"T_08182_row3_col4\" class=\"data row3 col4\" >0.999484</td>\n",
       "      <td id=\"T_08182_row3_col5\" class=\"data row3 col5\" >0.999326</td>\n",
       "      <td id=\"T_08182_row3_col6\" class=\"data row3 col6\" >0.997964</td>\n",
       "      <td id=\"T_08182_row3_col7\" class=\"data row3 col7\" >0.034449</td>\n",
       "      <td id=\"T_08182_row3_col8\" class=\"data row3 col8\" >0.998742</td>\n",
       "      <td id=\"T_08182_row3_col9\" class=\"data row3 col9\" >0.998278</td>\n",
       "      <td id=\"T_08182_row3_col10\" class=\"data row3 col10\" >0.998207</td>\n",
       "      <td id=\"T_08182_row3_col11\" class=\"data row3 col11\" >0.997042</td>\n",
       "      <td id=\"T_08182_row3_col12\" class=\"data row3 col12\" >0.018728</td>\n",
       "      <td id=\"T_08182_row3_col13\" class=\"data row3 col13\" >0.997741</td>\n",
       "      <td id=\"T_08182_row3_col14\" class=\"data row3 col14\" >0.997307</td>\n",
       "      <td id=\"T_08182_row3_col15\" class=\"data row3 col15\" >0.997321</td>\n",
       "    </tr>\n",
       "    <tr>\n",
       "      <th id=\"T_08182_level0_row4\" class=\"row_heading level0 row4\" >High(t-3)</th>\n",
       "      <td id=\"T_08182_row4_col0\" class=\"data row4 col0\" >0.997507</td>\n",
       "      <td id=\"T_08182_row4_col1\" class=\"data row4 col1\" >0.999555</td>\n",
       "      <td id=\"T_08182_row4_col2\" class=\"data row4 col2\" >0.070891</td>\n",
       "      <td id=\"T_08182_row4_col3\" class=\"data row4 col3\" >0.999484</td>\n",
       "      <td id=\"T_08182_row4_col4\" class=\"data row4 col4\" >1.000000</td>\n",
       "      <td id=\"T_08182_row4_col5\" class=\"data row4 col5\" >0.999230</td>\n",
       "      <td id=\"T_08182_row4_col6\" class=\"data row4 col6\" >0.998553</td>\n",
       "      <td id=\"T_08182_row4_col7\" class=\"data row4 col7\" >0.034789</td>\n",
       "      <td id=\"T_08182_row4_col8\" class=\"data row4 col8\" >0.999390</td>\n",
       "      <td id=\"T_08182_row4_col9\" class=\"data row4 col9\" >0.999056</td>\n",
       "      <td id=\"T_08182_row4_col10\" class=\"data row4 col10\" >0.998690</td>\n",
       "      <td id=\"T_08182_row4_col11\" class=\"data row4 col11\" >0.997623</td>\n",
       "      <td id=\"T_08182_row4_col12\" class=\"data row4 col12\" >0.019652</td>\n",
       "      <td id=\"T_08182_row4_col13\" class=\"data row4 col13\" >0.998323</td>\n",
       "      <td id=\"T_08182_row4_col14\" class=\"data row4 col14\" >0.998033</td>\n",
       "      <td id=\"T_08182_row4_col15\" class=\"data row4 col15\" >0.997779</td>\n",
       "    </tr>\n",
       "    <tr>\n",
       "      <th id=\"T_08182_level0_row5\" class=\"row_heading level0 row5\" >Low(t-3)</th>\n",
       "      <td id=\"T_08182_row5_col0\" class=\"data row5 col0\" >0.997446</td>\n",
       "      <td id=\"T_08182_row5_col1\" class=\"data row5 col1\" >0.999572</td>\n",
       "      <td id=\"T_08182_row5_col2\" class=\"data row5 col2\" >0.059824</td>\n",
       "      <td id=\"T_08182_row5_col3\" class=\"data row5 col3\" >0.999326</td>\n",
       "      <td id=\"T_08182_row5_col4\" class=\"data row5 col4\" >0.999230</td>\n",
       "      <td id=\"T_08182_row5_col5\" class=\"data row5 col5\" >1.000000</td>\n",
       "      <td id=\"T_08182_row5_col6\" class=\"data row5 col6\" >0.998510</td>\n",
       "      <td id=\"T_08182_row5_col7\" class=\"data row5 col7\" >0.034121</td>\n",
       "      <td id=\"T_08182_row5_col8\" class=\"data row5 col8\" >0.999401</td>\n",
       "      <td id=\"T_08182_row5_col9\" class=\"data row5 col9\" >0.998737</td>\n",
       "      <td id=\"T_08182_row5_col10\" class=\"data row5 col10\" >0.998942</td>\n",
       "      <td id=\"T_08182_row5_col11\" class=\"data row5 col11\" >0.997593</td>\n",
       "      <td id=\"T_08182_row5_col12\" class=\"data row5 col12\" >0.018006</td>\n",
       "      <td id=\"T_08182_row5_col13\" class=\"data row5 col13\" >0.998282</td>\n",
       "      <td id=\"T_08182_row5_col14\" class=\"data row5 col14\" >0.997700</td>\n",
       "      <td id=\"T_08182_row5_col15\" class=\"data row5 col15\" >0.998006</td>\n",
       "    </tr>\n",
       "    <tr>\n",
       "      <th id=\"T_08182_level0_row6\" class=\"row_heading level0 row6\" >Close(t-2)</th>\n",
       "      <td id=\"T_08182_row6_col0\" class=\"data row6 col0\" >0.998712</td>\n",
       "      <td id=\"T_08182_row6_col1\" class=\"data row6 col1\" >0.999001</td>\n",
       "      <td id=\"T_08182_row6_col2\" class=\"data row6 col2\" >0.062810</td>\n",
       "      <td id=\"T_08182_row6_col3\" class=\"data row6 col3\" >0.997964</td>\n",
       "      <td id=\"T_08182_row6_col4\" class=\"data row6 col4\" >0.998553</td>\n",
       "      <td id=\"T_08182_row6_col5\" class=\"data row6 col5\" >0.998510</td>\n",
       "      <td id=\"T_08182_row6_col6\" class=\"data row6 col6\" >1.000000</td>\n",
       "      <td id=\"T_08182_row6_col7\" class=\"data row6 col7\" >0.030970</td>\n",
       "      <td id=\"T_08182_row6_col8\" class=\"data row6 col8\" >0.999156</td>\n",
       "      <td id=\"T_08182_row6_col9\" class=\"data row6 col9\" >0.999552</td>\n",
       "      <td id=\"T_08182_row6_col10\" class=\"data row6 col10\" >0.999619</td>\n",
       "      <td id=\"T_08182_row6_col11\" class=\"data row6 col11\" >0.998881</td>\n",
       "      <td id=\"T_08182_row6_col12\" class=\"data row6 col12\" >0.018509</td>\n",
       "      <td id=\"T_08182_row6_col13\" class=\"data row6 col13\" >0.999781</td>\n",
       "      <td id=\"T_08182_row6_col14\" class=\"data row6 col14\" >0.999242</td>\n",
       "      <td id=\"T_08182_row6_col15\" class=\"data row6 col15\" >0.999221</td>\n",
       "    </tr>\n",
       "    <tr>\n",
       "      <th id=\"T_08182_level0_row7\" class=\"row_heading level0 row7\" >Volume(t-2)</th>\n",
       "      <td id=\"T_08182_row7_col0\" class=\"data row7 col0\" >0.029510</td>\n",
       "      <td id=\"T_08182_row7_col1\" class=\"data row7 col1\" >0.035062</td>\n",
       "      <td id=\"T_08182_row7_col2\" class=\"data row7 col2\" >0.425056</td>\n",
       "      <td id=\"T_08182_row7_col3\" class=\"data row7 col3\" >0.034449</td>\n",
       "      <td id=\"T_08182_row7_col4\" class=\"data row7 col4\" >0.034789</td>\n",
       "      <td id=\"T_08182_row7_col5\" class=\"data row7 col5\" >0.034121</td>\n",
       "      <td id=\"T_08182_row7_col6\" class=\"data row7 col6\" >0.030970</td>\n",
       "      <td id=\"T_08182_row7_col7\" class=\"data row7 col7\" >1.000000</td>\n",
       "      <td id=\"T_08182_row7_col8\" class=\"data row7 col8\" >0.035712</td>\n",
       "      <td id=\"T_08182_row7_col9\" class=\"data row7 col9\" >0.038995</td>\n",
       "      <td id=\"T_08182_row7_col10\" class=\"data row7 col10\" >0.027264</td>\n",
       "      <td id=\"T_08182_row7_col11\" class=\"data row7 col11\" >0.030308</td>\n",
       "      <td id=\"T_08182_row7_col12\" class=\"data row7 col12\" >0.486765</td>\n",
       "      <td id=\"T_08182_row7_col13\" class=\"data row7 col13\" >0.028352</td>\n",
       "      <td id=\"T_08182_row7_col14\" class=\"data row7 col14\" >0.029300</td>\n",
       "      <td id=\"T_08182_row7_col15\" class=\"data row7 col15\" >0.027665</td>\n",
       "    </tr>\n",
       "    <tr>\n",
       "      <th id=\"T_08182_level0_row8\" class=\"row_heading level0 row8\" >Open(t-2)</th>\n",
       "      <td id=\"T_08182_row8_col0\" class=\"data row8 col0\" >0.997985</td>\n",
       "      <td id=\"T_08182_row8_col1\" class=\"data row8 col1\" >0.999854</td>\n",
       "      <td id=\"T_08182_row8_col2\" class=\"data row8 col2\" >0.061190</td>\n",
       "      <td id=\"T_08182_row8_col3\" class=\"data row8 col3\" >0.998742</td>\n",
       "      <td id=\"T_08182_row8_col4\" class=\"data row8 col4\" >0.999390</td>\n",
       "      <td id=\"T_08182_row8_col5\" class=\"data row8 col5\" >0.999401</td>\n",
       "      <td id=\"T_08182_row8_col6\" class=\"data row8 col6\" >0.999156</td>\n",
       "      <td id=\"T_08182_row8_col7\" class=\"data row8 col7\" >0.035712</td>\n",
       "      <td id=\"T_08182_row8_col8\" class=\"data row8 col8\" >1.000000</td>\n",
       "      <td id=\"T_08182_row8_col9\" class=\"data row8 col9\" >0.999528</td>\n",
       "      <td id=\"T_08182_row8_col10\" class=\"data row8 col10\" >0.999450</td>\n",
       "      <td id=\"T_08182_row8_col11\" class=\"data row8 col11\" >0.998166</td>\n",
       "      <td id=\"T_08182_row8_col12\" class=\"data row8 col12\" >0.018279</td>\n",
       "      <td id=\"T_08182_row8_col13\" class=\"data row8 col13\" >0.998920</td>\n",
       "      <td id=\"T_08182_row8_col14\" class=\"data row8 col14\" >0.998462</td>\n",
       "      <td id=\"T_08182_row8_col15\" class=\"data row8 col15\" >0.998432</td>\n",
       "    </tr>\n",
       "    <tr>\n",
       "      <th id=\"T_08182_level0_row9\" class=\"row_heading level0 row9\" >High(t-2)</th>\n",
       "      <td id=\"T_08182_row9_col0\" class=\"data row9 col0\" >0.998420</td>\n",
       "      <td id=\"T_08182_row9_col1\" class=\"data row9 col1\" >0.999359</td>\n",
       "      <td id=\"T_08182_row9_col2\" class=\"data row9 col2\" >0.061725</td>\n",
       "      <td id=\"T_08182_row9_col3\" class=\"data row9 col3\" >0.998278</td>\n",
       "      <td id=\"T_08182_row9_col4\" class=\"data row9 col4\" >0.999056</td>\n",
       "      <td id=\"T_08182_row9_col5\" class=\"data row9 col5\" >0.998737</td>\n",
       "      <td id=\"T_08182_row9_col6\" class=\"data row9 col6\" >0.999552</td>\n",
       "      <td id=\"T_08182_row9_col7\" class=\"data row9 col7\" >0.038995</td>\n",
       "      <td id=\"T_08182_row9_col8\" class=\"data row9 col8\" >0.999528</td>\n",
       "      <td id=\"T_08182_row9_col9\" class=\"data row9 col9\" >1.000000</td>\n",
       "      <td id=\"T_08182_row9_col10\" class=\"data row9 col10\" >0.999308</td>\n",
       "      <td id=\"T_08182_row9_col11\" class=\"data row9 col11\" >0.998596</td>\n",
       "      <td id=\"T_08182_row9_col12\" class=\"data row9 col12\" >0.019544</td>\n",
       "      <td id=\"T_08182_row9_col13\" class=\"data row9 col13\" >0.999432</td>\n",
       "      <td id=\"T_08182_row9_col14\" class=\"data row9 col14\" >0.999066</td>\n",
       "      <td id=\"T_08182_row9_col15\" class=\"data row9 col15\" >0.998781</td>\n",
       "    </tr>\n",
       "    <tr>\n",
       "      <th id=\"T_08182_level0_row10\" class=\"row_heading level0 row10\" >Low(t-2)</th>\n",
       "      <td id=\"T_08182_row10_col0\" class=\"data row10 col0\" >0.998492</td>\n",
       "      <td id=\"T_08182_row10_col1\" class=\"data row10 col1\" >0.999295</td>\n",
       "      <td id=\"T_08182_row10_col2\" class=\"data row10 col2\" >0.059763</td>\n",
       "      <td id=\"T_08182_row10_col3\" class=\"data row10 col3\" >0.998207</td>\n",
       "      <td id=\"T_08182_row10_col4\" class=\"data row10 col4\" >0.998690</td>\n",
       "      <td id=\"T_08182_row10_col5\" class=\"data row10 col5\" >0.998942</td>\n",
       "      <td id=\"T_08182_row10_col6\" class=\"data row10 col6\" >0.999619</td>\n",
       "      <td id=\"T_08182_row10_col7\" class=\"data row10 col7\" >0.027264</td>\n",
       "      <td id=\"T_08182_row10_col8\" class=\"data row10 col8\" >0.999450</td>\n",
       "      <td id=\"T_08182_row10_col9\" class=\"data row10 col9\" >0.999308</td>\n",
       "      <td id=\"T_08182_row10_col10\" class=\"data row10 col10\" >1.000000</td>\n",
       "      <td id=\"T_08182_row10_col11\" class=\"data row10 col11\" >0.998672</td>\n",
       "      <td id=\"T_08182_row10_col12\" class=\"data row10 col12\" >0.015477</td>\n",
       "      <td id=\"T_08182_row10_col13\" class=\"data row10 col13\" >0.999526</td>\n",
       "      <td id=\"T_08182_row10_col14\" class=\"data row10 col14\" >0.998899</td>\n",
       "      <td id=\"T_08182_row10_col15\" class=\"data row10 col15\" >0.999125</td>\n",
       "    </tr>\n",
       "    <tr>\n",
       "      <th id=\"T_08182_level0_row11\" class=\"row_heading level0 row11\" >Close(t-1)</th>\n",
       "      <td id=\"T_08182_row11_col0\" class=\"data row11 col0\" >0.999763</td>\n",
       "      <td id=\"T_08182_row11_col1\" class=\"data row11 col1\" >0.998044</td>\n",
       "      <td id=\"T_08182_row11_col2\" class=\"data row11 col2\" >0.060695</td>\n",
       "      <td id=\"T_08182_row11_col3\" class=\"data row11 col3\" >0.997042</td>\n",
       "      <td id=\"T_08182_row11_col4\" class=\"data row11 col4\" >0.997623</td>\n",
       "      <td id=\"T_08182_row11_col5\" class=\"data row11 col5\" >0.997593</td>\n",
       "      <td id=\"T_08182_row11_col6\" class=\"data row11 col6\" >0.998881</td>\n",
       "      <td id=\"T_08182_row11_col7\" class=\"data row11 col7\" >0.030308</td>\n",
       "      <td id=\"T_08182_row11_col8\" class=\"data row11 col8\" >0.998166</td>\n",
       "      <td id=\"T_08182_row11_col9\" class=\"data row11 col9\" >0.998596</td>\n",
       "      <td id=\"T_08182_row11_col10\" class=\"data row11 col10\" >0.998672</td>\n",
       "      <td id=\"T_08182_row11_col11\" class=\"data row11 col11\" >1.000000</td>\n",
       "      <td id=\"T_08182_row11_col12\" class=\"data row11 col12\" >0.016481</td>\n",
       "      <td id=\"T_08182_row11_col13\" class=\"data row11 col13\" >0.999095</td>\n",
       "      <td id=\"T_08182_row11_col14\" class=\"data row11 col14\" >0.999534</td>\n",
       "      <td id=\"T_08182_row11_col15\" class=\"data row11 col15\" >0.999602</td>\n",
       "    </tr>\n",
       "    <tr>\n",
       "      <th id=\"T_08182_level0_row12\" class=\"row_heading level0 row12\" >Volume(t-1)</th>\n",
       "      <td id=\"T_08182_row12_col0\" class=\"data row12 col0\" >0.014744</td>\n",
       "      <td id=\"T_08182_row12_col1\" class=\"data row12 col1\" >0.019629</td>\n",
       "      <td id=\"T_08182_row12_col2\" class=\"data row12 col2\" >0.452693</td>\n",
       "      <td id=\"T_08182_row12_col3\" class=\"data row12 col3\" >0.018728</td>\n",
       "      <td id=\"T_08182_row12_col4\" class=\"data row12 col4\" >0.019652</td>\n",
       "      <td id=\"T_08182_row12_col5\" class=\"data row12 col5\" >0.018006</td>\n",
       "      <td id=\"T_08182_row12_col6\" class=\"data row12 col6\" >0.018509</td>\n",
       "      <td id=\"T_08182_row12_col7\" class=\"data row12 col7\" >0.486765</td>\n",
       "      <td id=\"T_08182_row12_col8\" class=\"data row12 col8\" >0.018279</td>\n",
       "      <td id=\"T_08182_row12_col9\" class=\"data row12 col9\" >0.019544</td>\n",
       "      <td id=\"T_08182_row12_col10\" class=\"data row12 col10\" >0.015477</td>\n",
       "      <td id=\"T_08182_row12_col11\" class=\"data row12 col11\" >0.016481</td>\n",
       "      <td id=\"T_08182_row12_col12\" class=\"data row12 col12\" >1.000000</td>\n",
       "      <td id=\"T_08182_row12_col13\" class=\"data row12 col13\" >0.018610</td>\n",
       "      <td id=\"T_08182_row12_col14\" class=\"data row12 col14\" >0.024518</td>\n",
       "      <td id=\"T_08182_row12_col15\" class=\"data row12 col15\" >0.011403</td>\n",
       "    </tr>\n",
       "    <tr>\n",
       "      <th id=\"T_08182_level0_row13\" class=\"row_heading level0 row13\" >Open(t-1)</th>\n",
       "      <td id=\"T_08182_row13_col0\" class=\"data row13 col0\" >0.998909</td>\n",
       "      <td id=\"T_08182_row13_col1\" class=\"data row13 col1\" >0.998781</td>\n",
       "      <td id=\"T_08182_row13_col2\" class=\"data row13 col2\" >0.062048</td>\n",
       "      <td id=\"T_08182_row13_col3\" class=\"data row13 col3\" >0.997741</td>\n",
       "      <td id=\"T_08182_row13_col4\" class=\"data row13 col4\" >0.998323</td>\n",
       "      <td id=\"T_08182_row13_col5\" class=\"data row13 col5\" >0.998282</td>\n",
       "      <td id=\"T_08182_row13_col6\" class=\"data row13 col6\" >0.999781</td>\n",
       "      <td id=\"T_08182_row13_col7\" class=\"data row13 col7\" >0.028352</td>\n",
       "      <td id=\"T_08182_row13_col8\" class=\"data row13 col8\" >0.998920</td>\n",
       "      <td id=\"T_08182_row13_col9\" class=\"data row13 col9\" >0.999432</td>\n",
       "      <td id=\"T_08182_row13_col10\" class=\"data row13 col10\" >0.999526</td>\n",
       "      <td id=\"T_08182_row13_col11\" class=\"data row13 col11\" >0.999095</td>\n",
       "      <td id=\"T_08182_row13_col12\" class=\"data row13 col12\" >0.018610</td>\n",
       "      <td id=\"T_08182_row13_col13\" class=\"data row13 col13\" >1.000000</td>\n",
       "      <td id=\"T_08182_row13_col14\" class=\"data row13 col14\" >0.999485</td>\n",
       "      <td id=\"T_08182_row13_col15\" class=\"data row13 col15\" >0.999439</td>\n",
       "    </tr>\n",
       "    <tr>\n",
       "      <th id=\"T_08182_level0_row14\" class=\"row_heading level0 row14\" >High(t-1)</th>\n",
       "      <td id=\"T_08182_row14_col0\" class=\"data row14 col0\" >0.999418</td>\n",
       "      <td id=\"T_08182_row14_col1\" class=\"data row14 col1\" >0.998332</td>\n",
       "      <td id=\"T_08182_row14_col2\" class=\"data row14 col2\" >0.062166</td>\n",
       "      <td id=\"T_08182_row14_col3\" class=\"data row14 col3\" >0.997307</td>\n",
       "      <td id=\"T_08182_row14_col4\" class=\"data row14 col4\" >0.998033</td>\n",
       "      <td id=\"T_08182_row14_col5\" class=\"data row14 col5\" >0.997700</td>\n",
       "      <td id=\"T_08182_row14_col6\" class=\"data row14 col6\" >0.999242</td>\n",
       "      <td id=\"T_08182_row14_col7\" class=\"data row14 col7\" >0.029300</td>\n",
       "      <td id=\"T_08182_row14_col8\" class=\"data row14 col8\" >0.998462</td>\n",
       "      <td id=\"T_08182_row14_col9\" class=\"data row14 col9\" >0.999066</td>\n",
       "      <td id=\"T_08182_row14_col10\" class=\"data row14 col10\" >0.998899</td>\n",
       "      <td id=\"T_08182_row14_col11\" class=\"data row14 col11\" >0.999534</td>\n",
       "      <td id=\"T_08182_row14_col12\" class=\"data row14 col12\" >0.024518</td>\n",
       "      <td id=\"T_08182_row14_col13\" class=\"data row14 col13\" >0.999485</td>\n",
       "      <td id=\"T_08182_row14_col14\" class=\"data row14 col14\" >1.000000</td>\n",
       "      <td id=\"T_08182_row14_col15\" class=\"data row14 col15\" >0.999295</td>\n",
       "    </tr>\n",
       "    <tr>\n",
       "      <th id=\"T_08182_level0_row15\" class=\"row_heading level0 row15\" >Low(t-1)</th>\n",
       "      <td id=\"T_08182_row15_col0\" class=\"data row15 col0\" >0.999515</td>\n",
       "      <td id=\"T_08182_row15_col1\" class=\"data row15 col1\" >0.998312</td>\n",
       "      <td id=\"T_08182_row15_col2\" class=\"data row15 col2\" >0.060303</td>\n",
       "      <td id=\"T_08182_row15_col3\" class=\"data row15 col3\" >0.997321</td>\n",
       "      <td id=\"T_08182_row15_col4\" class=\"data row15 col4\" >0.997779</td>\n",
       "      <td id=\"T_08182_row15_col5\" class=\"data row15 col5\" >0.998006</td>\n",
       "      <td id=\"T_08182_row15_col6\" class=\"data row15 col6\" >0.999221</td>\n",
       "      <td id=\"T_08182_row15_col7\" class=\"data row15 col7\" >0.027665</td>\n",
       "      <td id=\"T_08182_row15_col8\" class=\"data row15 col8\" >0.998432</td>\n",
       "      <td id=\"T_08182_row15_col9\" class=\"data row15 col9\" >0.998781</td>\n",
       "      <td id=\"T_08182_row15_col10\" class=\"data row15 col10\" >0.999125</td>\n",
       "      <td id=\"T_08182_row15_col11\" class=\"data row15 col11\" >0.999602</td>\n",
       "      <td id=\"T_08182_row15_col12\" class=\"data row15 col12\" >0.011403</td>\n",
       "      <td id=\"T_08182_row15_col13\" class=\"data row15 col13\" >0.999439</td>\n",
       "      <td id=\"T_08182_row15_col14\" class=\"data row15 col14\" >0.999295</td>\n",
       "      <td id=\"T_08182_row15_col15\" class=\"data row15 col15\" >1.000000</td>\n",
       "    </tr>\n",
       "  </tbody>\n",
       "</table>\n"
      ],
      "text/plain": [
       "<pandas.io.formats.style.Styler at 0x7f086ceb4760>"
      ]
     },
     "metadata": {},
     "output_type": "display_data"
    },
    {
     "name": "stdout",
     "output_type": "stream",
     "text": [
      "Hierarchical clustering\n"
     ]
    },
    {
     "data": {
      "image/png": "[encoded data removed]",
      "text/plain": [
       "<Figure size 1000x500 with 2 Axes>"
      ]
     },
     "metadata": {},
     "output_type": "display_data"
    }
   ],
   "source": [
    "plot_correlation(df_s)"
   ]
  },
  {
   "cell_type": "markdown",
   "id": "3748246f-d42d-4257-a0c1-856622cdc68a",
   "metadata": {},
   "source": [
    "## Modelling using machine learning"
   ]
  },
  {
   "cell_type": "code",
   "execution_count": 49,
   "id": "1ebb374d-18cf-4dee-8447-5836a7f7fd45",
   "metadata": {
    "tags": []
   },
   "outputs": [],
   "source": [
    "y = df_s[target]"
   ]
  },
  {
   "cell_type": "code",
   "execution_count": 50,
   "id": "648e8d28-26f6-4180-9a84-43cfbe5c7007",
   "metadata": {
    "tags": []
   },
   "outputs": [],
   "source": [
    "X = df_s.drop(target, axis=1)"
   ]
  },
  {
   "cell_type": "code",
   "execution_count": 51,
   "id": "b18b3472-e18e-4d04-aea1-5e5dcdb09e4f",
   "metadata": {},
   "outputs": [],
   "source": [
    "from sklearn.svm import SVR\n",
    "from sklearn.neural_network import MLPRegressor\n",
    "from sklearn.ensemble import RandomForestRegressor, HistGradientBoostingRegressor, AdaBoostRegressor, BaggingRegressor, ExtraTreesRegressor, GradientBoostingRegressor\n",
    "from sklearn.gaussian_process.kernels import RBF, WhiteKernel, ConstantKernel, Matern, RationalQuadratic, ExpSineSquared, DotProduct\n",
    "from sklearn.gaussian_process import GaussianProcessRegressor\n",
    "from sklearn.tree import DecisionTreeRegressor\n",
    "from sklearn.neighbors import KNeighborsRegressor"
   ]
  },
  {
   "cell_type": "code",
   "execution_count": 52,
   "id": "af1caa38-897b-4275-bb0c-ad99d979672a",
   "metadata": {
    "tags": []
   },
   "outputs": [],
   "source": [
    "model_ml = [('AdaBoost', AdaBoostRegressor(n_estimators=100, random_state=random_state)), \n",
    "            ('HistGradientBoosting', HistGradientBoostingRegressor(early_stopping=True, random_state=random_state)), \n",
    "            ('RandomForest sq err', RandomForestRegressor(criterion='squared_error', max_depth=10, n_estimators=100, random_state = random_state, n_jobs=-1)),\n",
    "            ('RandomForest abs err', RandomForestRegressor(criterion='absolute_error', max_depth=10, n_estimators=100, random_state = random_state, n_jobs=-1)),\n",
    "            ('RandomForest Poisson', RandomForestRegressor(criterion='poisson', max_depth=10, n_estimators=100, random_state = random_state, n_jobs=-1)),\n",
    "            ('Gradient boosting', GradientBoostingRegressor(n_estimators=100, learning_rate=1.0, max_depth=1, random_state=random_state)),\n",
    "            ('Bagging', BaggingRegressor(n_estimators=100, random_state=random_state, n_jobs=-1)),\n",
    "            ('Bagging MLP', BaggingRegressor(estimator=MLPRegressor(), n_estimators=100, random_state=random_state, n_jobs=-1)),\n",
    "            ('Bagging SVR linear', BaggingRegressor(estimator=SVR(kernel='linear'), n_estimators=100, random_state=random_state, n_jobs=-1)),\n",
    "            ('Bagging SVR poly', BaggingRegressor(estimator=SVR(kernel='poly'), n_estimators=100, random_state=random_state, n_jobs=-1)),\n",
    "            ('Bagging SVR rbf', BaggingRegressor(estimator=SVR(kernel='rbf'), n_estimators=100, random_state=random_state, n_jobs=-1)),\n",
    "            ('MLP relu', MLPRegressor(hidden_layer_sizes=(20, 20, ), activation='relu', solver='adam', early_stopping=True, random_state=random_state, max_iter=2000)), \n",
    "            ('MLP logistic', MLPRegressor(hidden_layer_sizes=(20, 20, ), activation='logistic', solver='adam', early_stopping=True, random_state=random_state, max_iter=2000)), \n",
    "            ('MLP tanh', MLPRegressor(hidden_layer_sizes=(20, 20, ), activation='tanh', solver='adam', early_stopping=True, random_state=random_state, max_iter=2000)),\n",
    "            ('Gaussian process linear', GaussianProcessRegressor(kernel = ConstantKernel() * DotProduct() + ConstantKernel() + WhiteKernel(), random_state = random_state)),\n",
    "            ('Gaussian process rbf', GaussianProcessRegressor(kernel = ConstantKernel() * RBF() + ConstantKernel() + WhiteKernel(), random_state = random_state)),\n",
    "            ('Gaussian process expsinesq', GaussianProcessRegressor(kernel = ConstantKernel() * ExpSineSquared() + ConstantKernel() + WhiteKernel(), random_state = random_state)),\n",
    "            ('Gaussian process ratquad', GaussianProcessRegressor(kernel = ConstantKernel() * RationalQuadratic() + ConstantKernel() + WhiteKernel(), random_state = random_state)),\n",
    "            ('Decision tree sq err', DecisionTreeRegressor(criterion='friedman_mse', random_state = random_state)),\n",
    "            ('Decision tree abs err', DecisionTreeRegressor(criterion='absolute_error', random_state = random_state)),\n",
    "            ('Decision tree Poisson', DecisionTreeRegressor(criterion='poisson', random_state = random_state)),\n",
    "            ('KNeighbors uniform', KNeighborsRegressor(weights='uniform')),\n",
    "            ('KNeighbors distance', KNeighborsRegressor(weights='distance'))\n",
    "           ]"
   ]
  },
  {
   "cell_type": "code",
   "execution_count": 53,
   "id": "8038fcd9-edd5-49ec-a746-3fc2046b48ee",
   "metadata": {},
   "outputs": [
    {
     "data": {
      "application/vnd.jupyter.widget-view+json": {
       "model_id": "8e8ea99371d544f1927836f3e8ec41af",
       "version_major": 2,
       "version_minor": 0
      },
      "text/plain": [
       "interactive(children=(FloatSlider(value=0.30000000000000004, description='test_size', max=0.5, min=0.1, step=0…"
      ]
     },
     "metadata": {},
     "output_type": "display_data"
    }
   ],
   "source": [
    "model = plot_model_results(X, y, test_size=(0.1,0.5,0.01), model=model_ml, confidence=(0.8,1,0.01), plot_intervals=True, plot_anomalies=False)"
   ]
  },
  {
   "cell_type": "code",
   "execution_count": 28,
   "id": "a4476d9e-93a5-4fd3-8c2a-30f808f130e9",
   "metadata": {},
   "outputs": [
    {
     "name": "stdout",
     "output_type": "stream",
     "text": [
      "None\n"
     ]
    }
   ],
   "source": [
    "print(model)"
   ]
  },
  {
   "cell_type": "code",
   "execution_count": null,
   "id": "998a1c99-1b03-4601-a1f9-0c4732e13453",
   "metadata": {},
   "outputs": [],
   "source": []
  }
 ],
 "metadata": {
  "kernelspec": {
   "display_name": "ezstacking",
   "language": "python",
   "name": "ezstacking"
  },
  "language_info": {
   "codemirror_mode": {
    "name": "ipython",
    "version": 3
   },
   "file_extension": ".py",
   "mimetype": "text/x-python",
   "name": "python",
   "nbconvert_exporter": "python",
   "pygments_lexer": "ipython3",
   "version": "3.10.13"
  }
 },
 "nbformat": 4,
 "nbformat_minor": 5
}
