{
 "cells": [
  {
   "cell_type": "markdown",
   "id": "04b8e2c1-7b16-4634-b01f-fc8d2d199e92",
   "metadata": {},
   "source": [
    "# FastAPI Endpoint Client"
   ]
  },
  {
   "cell_type": "code",
   "execution_count": null,
   "id": "c2d26116-e7a8-4ba3-a457-7e3c2be29f5b",
   "metadata": {},
   "outputs": [],
   "source": [
    "%%time \n",
    "!/usr/bin/bash test.sh"
   ]
  },
  {
   "cell_type": "code",
   "execution_count": null,
   "id": "2762f319-7faf-4d20-afb1-05dcb4f42d5a",
   "metadata": {},
   "outputs": [],
   "source": []
  }
 ],
 "metadata": {
  "kernelspec": {
   "display_name": "ezstacking",
   "language": "python",
   "name": "ezstacking"
  },
  "language_info": {
   "codemirror_mode": {
    "name": "ipython",
    "version": 3
   },
   "file_extension": ".py",
   "mimetype": "text/x-python",
   "name": "python",
   "nbconvert_exporter": "python",
   "pygments_lexer": "ipython3",
   "version": "3.10.13"
  }
 },
 "nbformat": 4,
 "nbformat_minor": 5
}
