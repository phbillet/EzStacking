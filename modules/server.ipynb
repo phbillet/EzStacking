{
 "cells": [
  {
   "cell_type": "markdown",
   "id": "bb06a192-fedf-40d1-be71-4c1dfb0fb455",
   "metadata": {},
   "source": [
    "# FastAPI Endpoint Server"
   ]
  },
  {
   "cell_type": "markdown",
   "id": "1a8711bb-4b21-48dd-b8ab-55c1604814b2",
   "metadata": {},
   "source": [
    "### Start the server"
   ]
  },
  {
   "cell_type": "code",
   "execution_count": null,
   "id": "a7ccae66-5416-4278-93b1-d60cd570ee94",
   "metadata": {},
   "outputs": [],
   "source": [
    "run server.py"
   ]
  },
  {
   "cell_type": "markdown",
   "id": "eead0ea9-8d7e-4078-a461-92c3b5c87592",
   "metadata": {
    "tags": []
   },
   "source": [
    "### Test your API with the [client](./client.ipynb)"
   ]
  }
 ],
 "metadata": {
  "kernelspec": {
   "display_name": "ezstacking",
   "language": "python",
   "name": "ezstacking"
  },
  "language_info": {
   "codemirror_mode": {
    "name": "ipython",
    "version": 3
   },
   "file_extension": ".py",
   "mimetype": "text/x-python",
   "name": "python",
   "nbconvert_exporter": "python",
   "pygments_lexer": "ipython3",
   "version": "3.10.13"
  }
 },
 "nbformat": 4,
 "nbformat_minor": 5
}
